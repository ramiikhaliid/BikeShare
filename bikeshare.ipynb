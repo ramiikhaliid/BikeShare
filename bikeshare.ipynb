{
 "cells": [
  {
   "cell_type": "code",
   "execution_count": 1,
   "metadata": {},
   "outputs": [],
   "source": [
    "import numpy as np\n",
    "import pandas as pd\n",
    "import time"
   ]
  },
  {
   "cell_type": "code",
   "execution_count": 2,
   "metadata": {},
   "outputs": [],
   "source": [
    "######"
   ]
  },
  {
   "cell_type": "code",
   "execution_count": 3,
   "metadata": {},
   "outputs": [],
   "source": [
    "#########"
   ]
  },
  {
   "cell_type": "code",
   "execution_count": 4,
   "metadata": {},
   "outputs": [],
   "source": [
    "CITY_DATA = { 'chicago': 'chicago.csv',\n",
    "              'new york city': 'new_york_city.csv',\n",
    "              'washington': 'washington.csv' }\n",
    "fila=[\"month\",\"day\",\"both\",\"none\"]\n",
    "mon=[\"january\" ,\"february\",\"march\" ,\"april\" ,\"may\", \"june\"]\n",
    "dy=[\"sunday\", \"monday\", \"tuesday\", \"wednesday\", \"thursday\", \"friday\", \"saturday\"]"
   ]
  },
  {
   "cell_type": "code",
   "execution_count": 5,
   "metadata": {},
   "outputs": [],
   "source": [
    "def get_filters():\n",
    "    day=\"all\"\n",
    "    month=\"all\"\n",
    "    print('Hello! Let\\'s explore some US bikeshare data!')\n",
    "    # get user input for city (chicago, new york city, washington). HINT: Use a while loop to handle invalid inputs\n",
    "    e=1\n",
    "    while e!=0:\n",
    "        print(\"Choose between chicago ,new york city or washington : \")\n",
    "        city = input()\n",
    "        a=city.lower()\n",
    "        if a in CITY_DATA.keys():\n",
    "            print (city+\" is right\")\n",
    "            city=a\n",
    "            #city=CITY_DATA[city]\n",
    "            e=0\n",
    "        else: \n",
    "            e=0.5\n",
    "             \n",
    "\n",
    "    # get user input for month (all, january, february, ... , june)\n",
    "    r=1\n",
    "    while r!=0:\n",
    "        print(\"Would you like to filter the data by month ,day, both or not at all ? type none for no filter \")\n",
    "        fil=input().lower()\n",
    "        if fil in fila:\n",
    "            if fil==\"month\":\n",
    "                pp=1\n",
    "                while pp!=0:\n",
    "                    print(\"Which month do you want , January ,February,March ,April ,May or june ?\")\n",
    "                    month=input()\n",
    "                    b=month.lower()\n",
    "                    if b in mon:\n",
    "                        month=b\n",
    "                        pp=0\n",
    "                        r=0\n",
    "            if fil==\"day\":\n",
    "                dd=1\n",
    "                while dd!=0:\n",
    "                    print(\"Which day do you want, Sunday, Monday, Tuesday, Wednesday, Thursday, Friday or Saturday?\")\n",
    "                    day=input()\n",
    "                    c=day.lower()\n",
    "                    if c in dy:\n",
    "                        day=c\n",
    "                        dd=0\n",
    "                        r=0\n",
    "            if fil==\"both\":\n",
    "                pp=1\n",
    "                while pp!=0:\n",
    "                    print(\"Which month do you want , January ,February,March ,April ,May or june ?\")\n",
    "                    month=input()\n",
    "                    b=month.lower()\n",
    "                    if b in mon:\n",
    "                        month=b\n",
    "                        pp=0\n",
    "                dd=1\n",
    "                while dd!=0:\n",
    "                    print(\"Which day do you want, Sunday, Monday, Tuesday, Wednesday, Thursday, Friday or Saturday?\")\n",
    "                    day=input()\n",
    "                    c=day.lower()\n",
    "                    if c in dy:\n",
    "                        day=c\n",
    "                        dd=0\n",
    "                        r=0\n",
    "            if fil==\"none\":\n",
    "                day=\"all\"\n",
    "                month=\"all\"\n",
    "                r=0\n",
    "              \n",
    "\n",
    "    \n",
    "\n",
    "    print('-'*40)\n",
    "    return city, month, day"
   ]
  },
  {
   "cell_type": "code",
   "execution_count": 6,
   "metadata": {},
   "outputs": [],
   "source": [
    "def load_data(city, month, day):\n",
    " \n",
    "    # load data file into a dataframe\n",
    "    df = pd.read_csv(CITY_DATA[city])\n",
    "\n",
    "    # convert the Start Time column to datetime\n",
    "    df['Start Time'] = pd.to_datetime(df['Start Time'])\n",
    "\n",
    "    # extract month and day of week from Start Time to create new columns\n",
    "    df['month'] = df['Start Time'].dt.month\n",
    "    df['day_of_week'] = df['Start Time'].dt.day_name()\n",
    "\n",
    "    # filter by month if applicable\n",
    "    if month != 'all':\n",
    "        # use the index of the months list to get the corresponding int\n",
    "        months = ['january', 'february', 'march', 'april', 'may', 'june']\n",
    "        month = months.index(month) + 1\n",
    "\n",
    "        # filter by month to create the new dataframe\n",
    "        df = df[df['month'] == month]\n",
    "\n",
    "    # filter by day of week if applicable\n",
    "    if day != 'all':\n",
    "        # filter by day of week to create the new dataframe\n",
    "        df = df[df['day_of_week'] == day.title()]\n",
    "\n",
    "    return df"
   ]
  },
  {
   "cell_type": "code",
   "execution_count": 7,
   "metadata": {},
   "outputs": [],
   "source": [
    "def time_stats(df):\n",
    "    \n",
    "\n",
    "    print('\\nCalculating The Most Frequent Times of Travel...\\n')\n",
    "    start_time = time.time()\n",
    "    tm=df[\"Start Time\"]\n",
    "    a=pd.to_datetime(tm)\n",
    "    # display the most common month\n",
    "    mn= a.dt.month\n",
    "    mn=mn.mode()[0]\n",
    "    print(\"Most frequent month is \",mn)\n",
    "\n",
    "    # display the most common day of week\n",
    "    wk= a.dt.day_name()\n",
    "    wk=wk.mode()[0]\n",
    "    print(\"Most frequent day is \",wk)\n",
    "\n",
    "    # display the most common start hour\n",
    "    hr= a.dt.hour\n",
    "    hr=hr.mode()[0]\n",
    "    print(\"Most frequent hour is \",hr)\n",
    "\n",
    "    print(\"\\nThis took %s seconds.\" % (time.time() - start_time))\n",
    "    print('-'*40)"
   ]
  },
  {
   "cell_type": "code",
   "execution_count": 8,
   "metadata": {},
   "outputs": [],
   "source": [
    "def station_stats(df):\n",
    "    \"\"\"Displays statistics on the most popular stations and trip.\"\"\"\n",
    "\n",
    "    print('\\nCalculating The Most Popular Stations and Trip...\\n')\n",
    "    start_time = time.time()\n",
    "    ss=df[\"Start Station\"]\n",
    "    es=df[\"End Station\"]\n",
    "    # display most commonly used start station\n",
    "    ssM=ss.mode()[0]\n",
    "    print(\"Most commonly used start station is \",ssM)\n",
    "\n",
    "    # display most commonly used end station\n",
    "    esM=es.mode()[0]\n",
    "    print(\"Most commonly used end station is \",esM)\n",
    "\n",
    "    # display most frequent combination of start station and end station trip\n",
    "    sses = (df['Start Station'] + df['End Station']).mode()[0]\n",
    "    print(\"Most most frequent combination of start station and end station trip is \",sses)\n",
    "\n",
    "    print(\"\\nThis took %s seconds.\" % (time.time() - start_time))\n",
    "    print('-'*40)\n"
   ]
  },
  {
   "cell_type": "code",
   "execution_count": 9,
   "metadata": {},
   "outputs": [],
   "source": [
    "def trip_duration_stats(df):\n",
    "    \"\"\"Displays statistics on the total and average trip duration.\"\"\"\n",
    "\n",
    "    print('\\nCalculating Trip Duration...\\n')\n",
    "    start_time = time.time()\n",
    "    td=df[\"Trip Duration\"]\n",
    "    tdd=td.describe()\n",
    "    # display total travel time\n",
    "    ttt=td.sum()\n",
    "    print(\"Total travel time is \", ttt,\" sec\")\n",
    "    \n",
    "    # display mean travel time\n",
    "    mtt=tdd[1]\n",
    "    print(\"Mean travel time is \",mtt,\" sec\")\n",
    "\n",
    "    print(\"\\nThis took %s seconds.\" % (time.time() - start_time))\n",
    "    print('-'*40)"
   ]
  },
  {
   "cell_type": "code",
   "execution_count": 10,
   "metadata": {},
   "outputs": [],
   "source": [
    "def user_stats(df):\n",
    "    \"\"\"Displays statistics on bikeshare users.\"\"\"\n",
    "\n",
    "    print('\\nCalculating User Stats...\\n')\n",
    "    start_time = time.time()\n",
    "    \n",
    "    we=df.columns\n",
    "    if len(we) !=11:\n",
    "        print(\"No Gender to show\")\n",
    "        print(\"No Birthday to show\")\n",
    "        print(df[\"User Type\"].value_counts())\n",
    "    else:\n",
    "        #df['Gender'].fillna(' ')\n",
    "        #df['Birth Year'].fillna(' ')\n",
    "        gen=df[\"Gender\"].value_counts()\n",
    "        bd=df[\"Birth Year\"]\n",
    "        # Display counts of user types\n",
    "        print(df[\"User Type\"].value_counts())\n",
    "\n",
    "        # Display counts of gender    \n",
    "        print(gen)\n",
    "\n",
    "        # Display earliest, most recent, and most common year of birth\n",
    "        bdd=bd.describe()\n",
    "        earl=bdd[3]\n",
    "        print(\"oldest year of birth \",earl)\n",
    "        most=bdd[7]\n",
    "        print(\"most recent year of birth \",most)\n",
    "        mc=bd.mode()[0]\n",
    "        print(\"most common year of birth \",mc)\n",
    "    \n",
    "    print(\"\\nThis took %s seconds.\" % (time.time() - start_time))\n",
    "    print('-'*40)"
   ]
  },
  {
   "cell_type": "code",
   "execution_count": 11,
   "metadata": {},
   "outputs": [],
   "source": [
    "def display_raw_data(df):\n",
    "    \"\"\" Your docstring here \"\"\"\n",
    "    i = 0\n",
    "    raw = input(\"Do you want to see 5 raw data ? \").lower() # TO DO: convert the user input to lower case using lower() function\n",
    "    pd.set_option('display.max_columns',200)\n",
    "\n",
    "    while True:            \n",
    "        if raw == 'no':\n",
    "            break\n",
    "        print(df[i:i+5]) # TO DO: appropriately subset/slice your dataframe to display next five rows\n",
    "        raw = input('Do you want to see another 5 more data ? ').lower() # TO DO: convert the user input to lower case using lower() function\n",
    "        i += 5"
   ]
  },
  {
   "cell_type": "markdown",
   "metadata": {},
   "source": [
    "# Run code here"
   ]
  },
  {
   "cell_type": "code",
   "execution_count": null,
   "metadata": {},
   "outputs": [
    {
     "name": "stdout",
     "output_type": "stream",
     "text": [
      "Hello! Let's explore some US bikeshare data!\n",
      "Choose between chicago ,new york city or washington : \n"
     ]
    }
   ],
   "source": [
    "def main():\n",
    "    while True:\n",
    "        city, month, day = get_filters()\n",
    "        df = load_data(city, month, day)\n",
    "\n",
    "        time_stats(df)\n",
    "        station_stats(df)\n",
    "        trip_duration_stats(df)\n",
    "        user_stats(df)\n",
    "        display_raw_data(df)\n",
    "\n",
    "        restart = input('\\nWould you like to restart? Enter yes or no.\\n')\n",
    "        if restart.lower() != 'yes':\n",
    "            break\n",
    "\n",
    "\n",
    "if __name__ == \"__main__\":\n",
    "    main()"
   ]
  },
  {
   "cell_type": "code",
   "execution_count": null,
   "metadata": {},
   "outputs": [],
   "source": []
  },
  {
   "cell_type": "code",
   "execution_count": null,
   "metadata": {},
   "outputs": [],
   "source": []
  },
  {
   "cell_type": "code",
   "execution_count": null,
   "metadata": {},
   "outputs": [],
   "source": [
    "\n",
    "        "
   ]
  },
  {
   "cell_type": "code",
   "execution_count": null,
   "metadata": {},
   "outputs": [],
   "source": []
  },
  {
   "cell_type": "code",
   "execution_count": null,
   "metadata": {},
   "outputs": [],
   "source": []
  },
  {
   "cell_type": "code",
   "execution_count": null,
   "metadata": {},
   "outputs": [],
   "source": []
  },
  {
   "cell_type": "code",
   "execution_count": null,
   "metadata": {},
   "outputs": [],
   "source": []
  },
  {
   "cell_type": "code",
   "execution_count": null,
   "metadata": {},
   "outputs": [],
   "source": []
  },
  {
   "cell_type": "code",
   "execution_count": null,
   "metadata": {},
   "outputs": [],
   "source": []
  }
 ],
 "metadata": {
  "kernelspec": {
   "display_name": "Python 3",
   "language": "python",
   "name": "python3"
  },
  "language_info": {
   "codemirror_mode": {
    "name": "ipython",
    "version": 3
   },
   "file_extension": ".py",
   "mimetype": "text/x-python",
   "name": "python",
   "nbconvert_exporter": "python",
   "pygments_lexer": "ipython3",
   "version": "3.7.1"
  }
 },
 "nbformat": 4,
 "nbformat_minor": 4
}
